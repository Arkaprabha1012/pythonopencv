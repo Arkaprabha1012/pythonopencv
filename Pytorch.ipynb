{
  "nbformat": 4,
  "nbformat_minor": 0,
  "metadata": {
    "colab": {
      "name": "Pytorch.ipynb",
      "provenance": [],
      "collapsed_sections": [],
      "authorship_tag": "ABX9TyP8eqpAib9OTvRCJiKyNtdZ",
      "include_colab_link": true
    },
    "kernelspec": {
      "name": "python3",
      "display_name": "Python 3"
    },
    "accelerator": "GPU"
  },
  "cells": [
    {
      "cell_type": "markdown",
      "metadata": {
        "id": "view-in-github",
        "colab_type": "text"
      },
      "source": [
        "<a href=\"https://colab.research.google.com/github/Arkaprabha1012/pythonopencv/blob/main/Pytorch.ipynb\" target=\"_parent\"><img src=\"https://colab.research.google.com/assets/colab-badge.svg\" alt=\"Open In Colab\"/></a>"
      ]
    },
    {
      "cell_type": "code",
      "metadata": {
        "id": "N0KdRG0EjGyA"
      },
      "source": [
        "import torch"
      ],
      "execution_count": 119,
      "outputs": []
    },
    {
      "cell_type": "code",
      "metadata": {
        "colab": {
          "base_uri": "https://localhost:8080/"
        },
        "id": "9ph6ZP1IjgnN",
        "outputId": "d49027a5-25a1-46dc-e2e2-4dff273fc476"
      },
      "source": [
        "#value\n",
        "t1=torch.tensor(4.)\n",
        "t1"
      ],
      "execution_count": 120,
      "outputs": [
        {
          "output_type": "execute_result",
          "data": {
            "text/plain": [
              "tensor(4.)"
            ]
          },
          "metadata": {
            "tags": []
          },
          "execution_count": 120
        }
      ]
    },
    {
      "cell_type": "code",
      "metadata": {
        "colab": {
          "base_uri": "https://localhost:8080/"
        },
        "id": "kMR-GDmakHfr",
        "outputId": "7dc29a63-8582-4ca6-a9c1-27e8668386df"
      },
      "source": [
        "t1.dtype"
      ],
      "execution_count": 121,
      "outputs": [
        {
          "output_type": "execute_result",
          "data": {
            "text/plain": [
              "torch.float32"
            ]
          },
          "metadata": {
            "tags": []
          },
          "execution_count": 121
        }
      ]
    },
    {
      "cell_type": "code",
      "metadata": {
        "colab": {
          "base_uri": "https://localhost:8080/"
        },
        "id": "lMUQCWM5kS0F",
        "outputId": "2a75635b-d322-45da-a86e-b4b2dd62de2e"
      },
      "source": [
        "#vector\n",
        "t2=torch.tensor([1.,2,3,4])\n",
        "t2"
      ],
      "execution_count": 122,
      "outputs": [
        {
          "output_type": "execute_result",
          "data": {
            "text/plain": [
              "tensor([1., 2., 3., 4.])"
            ]
          },
          "metadata": {
            "tags": []
          },
          "execution_count": 122
        }
      ]
    },
    {
      "cell_type": "code",
      "metadata": {
        "colab": {
          "base_uri": "https://localhost:8080/"
        },
        "id": "n_nVcRedkhai",
        "outputId": "165fd5d4-7de9-4e8d-e3ea-c0d58cd31d94"
      },
      "source": [
        "#matrix\n",
        "t3=torch.tensor([[1,2],[3,4],[5,6],[7,8]])\n",
        "t3"
      ],
      "execution_count": 123,
      "outputs": [
        {
          "output_type": "execute_result",
          "data": {
            "text/plain": [
              "tensor([[1, 2],\n",
              "        [3, 4],\n",
              "        [5, 6],\n",
              "        [7, 8]])"
            ]
          },
          "metadata": {
            "tags": []
          },
          "execution_count": 123
        }
      ]
    },
    {
      "cell_type": "code",
      "metadata": {
        "colab": {
          "base_uri": "https://localhost:8080/"
        },
        "id": "dvi-sJDplCsq",
        "outputId": "cb5c71ad-a8a6-47e7-fc38-48c8b6b96660"
      },
      "source": [
        "#3 dimensional array\n",
        "t4=torch.tensor([[[11,12,23],[89,43,78]],[[15,16,12],[54,65,76]]])\n",
        "t4"
      ],
      "execution_count": 124,
      "outputs": [
        {
          "output_type": "execute_result",
          "data": {
            "text/plain": [
              "tensor([[[11, 12, 23],\n",
              "         [89, 43, 78]],\n",
              "\n",
              "        [[15, 16, 12],\n",
              "         [54, 65, 76]]])"
            ]
          },
          "metadata": {
            "tags": []
          },
          "execution_count": 124
        }
      ]
    },
    {
      "cell_type": "code",
      "metadata": {
        "colab": {
          "base_uri": "https://localhost:8080/"
        },
        "id": "CfiD8lnFldI2",
        "outputId": "de8a6af9-a4b2-42fe-cf4d-85689bd58917"
      },
      "source": [
        "#value\n",
        "t1.shape"
      ],
      "execution_count": 125,
      "outputs": [
        {
          "output_type": "execute_result",
          "data": {
            "text/plain": [
              "torch.Size([])"
            ]
          },
          "metadata": {
            "tags": []
          },
          "execution_count": 125
        }
      ]
    },
    {
      "cell_type": "code",
      "metadata": {
        "colab": {
          "base_uri": "https://localhost:8080/"
        },
        "id": "qIMS1APGlva9",
        "outputId": "54862ad4-7b6c-49f3-d0f2-a8c75300592b"
      },
      "source": [
        "#array\n",
        "t2.shape"
      ],
      "execution_count": 126,
      "outputs": [
        {
          "output_type": "execute_result",
          "data": {
            "text/plain": [
              "torch.Size([4])"
            ]
          },
          "metadata": {
            "tags": []
          },
          "execution_count": 126
        }
      ]
    },
    {
      "cell_type": "code",
      "metadata": {
        "colab": {
          "base_uri": "https://localhost:8080/"
        },
        "id": "OjJaUJtflwfz",
        "outputId": "6ec4f735-1a69-4560-f1f6-eee1b01ddd1a"
      },
      "source": [
        "#matrix\n",
        "t3.shape"
      ],
      "execution_count": 127,
      "outputs": [
        {
          "output_type": "execute_result",
          "data": {
            "text/plain": [
              "torch.Size([4, 2])"
            ]
          },
          "metadata": {
            "tags": []
          },
          "execution_count": 127
        }
      ]
    },
    {
      "cell_type": "code",
      "metadata": {
        "colab": {
          "base_uri": "https://localhost:8080/"
        },
        "id": "86-KUC5ulyku",
        "outputId": "a9fb8e5f-3dfa-49a4-b623-71833d673137"
      },
      "source": [
        "#3d matrix\n",
        "t4.shape"
      ],
      "execution_count": 128,
      "outputs": [
        {
          "output_type": "execute_result",
          "data": {
            "text/plain": [
              "torch.Size([2, 2, 3])"
            ]
          },
          "metadata": {
            "tags": []
          },
          "execution_count": 128
        }
      ]
    },
    {
      "cell_type": "code",
      "metadata": {
        "id": "YMbZJ91ul0Q0"
      },
      "source": [
        "##TENSOR OPERATIONS AND GRADIENTS"
      ],
      "execution_count": 129,
      "outputs": []
    },
    {
      "cell_type": "code",
      "metadata": {
        "id": "1xpgL-NvmZjy"
      },
      "source": [
        "x=torch.tensor(3.)\n",
        "w=torch.tensor(4.,requires_grad=True)\n",
        "b=torch.tensor(5.,requires_grad=True)"
      ],
      "execution_count": 130,
      "outputs": []
    },
    {
      "cell_type": "code",
      "metadata": {
        "colab": {
          "base_uri": "https://localhost:8080/"
        },
        "id": "P9itcQQSnJRJ",
        "outputId": "fc370b9f-b40f-42df-d661-578897a86a10"
      },
      "source": [
        "y=w*x+b\n",
        "y"
      ],
      "execution_count": 131,
      "outputs": [
        {
          "output_type": "execute_result",
          "data": {
            "text/plain": [
              "tensor(17., grad_fn=<AddBackward0>)"
            ]
          },
          "metadata": {
            "tags": []
          },
          "execution_count": 131
        }
      ]
    },
    {
      "cell_type": "code",
      "metadata": {
        "id": "hytEm6JSnMEH"
      },
      "source": [
        "#computer derivatives\n",
        "y.backward()"
      ],
      "execution_count": 132,
      "outputs": []
    },
    {
      "cell_type": "code",
      "metadata": {
        "colab": {
          "base_uri": "https://localhost:8080/"
        },
        "id": "AKVakajmogDZ",
        "outputId": "b84ba530-2dfb-40f6-e256-c414abceea52"
      },
      "source": [
        "print('dy/dx:',x.grad)\n",
        "print('dy/dw:',w.grad)\n",
        "print('dy/db:',b.grad)"
      ],
      "execution_count": 133,
      "outputs": [
        {
          "output_type": "stream",
          "text": [
            "dy/dx: None\n",
            "dy/dw: tensor(3.)\n",
            "dy/db: tensor(1.)\n"
          ],
          "name": "stdout"
        }
      ]
    },
    {
      "cell_type": "code",
      "metadata": {
        "id": "b81Ns40Cotix"
      },
      "source": [
        "#WITH NUMPY,MATPLOTLIB,OPENCV,PANDAS"
      ],
      "execution_count": 134,
      "outputs": []
    },
    {
      "cell_type": "code",
      "metadata": {
        "colab": {
          "base_uri": "https://localhost:8080/"
        },
        "id": "HJK4G0kgpotA",
        "outputId": "0787a6c0-f367-43dc-e001-c6ab4b7cd4c8"
      },
      "source": [
        "import numpy as np\n",
        "x=np.array([[1,2],[3.,4]])\n",
        "x"
      ],
      "execution_count": 135,
      "outputs": [
        {
          "output_type": "execute_result",
          "data": {
            "text/plain": [
              "array([[1., 2.],\n",
              "       [3., 4.]])"
            ]
          },
          "metadata": {
            "tags": []
          },
          "execution_count": 135
        }
      ]
    },
    {
      "cell_type": "code",
      "metadata": {
        "colab": {
          "base_uri": "https://localhost:8080/"
        },
        "id": "xyUV-4Vipvpm",
        "outputId": "8cc5d07b-a0b0-489b-8f11-bf4b5e67ca15"
      },
      "source": [
        "#Creating torch tensor from numpy\n",
        "y=torch.tensor(x)\n",
        "y"
      ],
      "execution_count": 136,
      "outputs": [
        {
          "output_type": "execute_result",
          "data": {
            "text/plain": [
              "tensor([[1., 2.],\n",
              "        [3., 4.]], dtype=torch.float64)"
            ]
          },
          "metadata": {
            "tags": []
          },
          "execution_count": 136
        }
      ]
    },
    {
      "cell_type": "code",
      "metadata": {
        "colab": {
          "base_uri": "https://localhost:8080/"
        },
        "id": "3mq_a4SEqBFt",
        "outputId": "9d248870-2395-4584-cd31-9beb61032d3e"
      },
      "source": [
        "x.dtype,y.dtype"
      ],
      "execution_count": 137,
      "outputs": [
        {
          "output_type": "execute_result",
          "data": {
            "text/plain": [
              "(dtype('float64'), torch.float64)"
            ]
          },
          "metadata": {
            "tags": []
          },
          "execution_count": 137
        }
      ]
    },
    {
      "cell_type": "code",
      "metadata": {
        "colab": {
          "base_uri": "https://localhost:8080/"
        },
        "id": "IvKOWV6yqOAC",
        "outputId": "44c22646-013f-4bee-c8f9-779ab7700449"
      },
      "source": [
        "#Tensor to numpy\n",
        "z=y.numpy()\n",
        "z"
      ],
      "execution_count": 138,
      "outputs": [
        {
          "output_type": "execute_result",
          "data": {
            "text/plain": [
              "array([[1., 2.],\n",
              "       [3., 4.]])"
            ]
          },
          "metadata": {
            "tags": []
          },
          "execution_count": 138
        }
      ]
    },
    {
      "cell_type": "code",
      "metadata": {
        "id": "4fCjJjLzxYp5"
      },
      "source": [
        "import numpy as np\n",
        "import torch"
      ],
      "execution_count": 139,
      "outputs": []
    },
    {
      "cell_type": "code",
      "metadata": {
        "id": "hYl2PMrp6wht"
      },
      "source": [
        "#input temp raifall humidity\n",
        "inputs=np.array([[73,67,43],\n",
        "                 [91,88,64],\n",
        "                 [87,134,58],\n",
        "                 [102,43,37],\n",
        "                 [69,96,70]],dtype='float32')\n",
        "#input taget variables (apples,oranges)\n",
        "targets=np.array([[56,70],\n",
        "                  [81,101],\n",
        "                  [119,133],\n",
        "                  [22,37],\n",
        "                  [103,119]],dtype='float32')"
      ],
      "execution_count": 140,
      "outputs": []
    },
    {
      "cell_type": "code",
      "metadata": {
        "colab": {
          "base_uri": "https://localhost:8080/"
        },
        "id": "iq47pi_zAQr0",
        "outputId": "ea601d9f-ee7c-4420-c821-9ab7ee6e5176"
      },
      "source": [
        "inputs=torch.from_numpy(inputs)\n",
        "targets=torch.from_numpy(targets)\n",
        "print(inputs,\"\\n\",targets)"
      ],
      "execution_count": 141,
      "outputs": [
        {
          "output_type": "stream",
          "text": [
            "tensor([[ 73.,  67.,  43.],\n",
            "        [ 91.,  88.,  64.],\n",
            "        [ 87., 134.,  58.],\n",
            "        [102.,  43.,  37.],\n",
            "        [ 69.,  96.,  70.]]) \n",
            " tensor([[ 56.,  70.],\n",
            "        [ 81., 101.],\n",
            "        [119., 133.],\n",
            "        [ 22.,  37.],\n",
            "        [103., 119.]])\n"
          ],
          "name": "stdout"
        }
      ]
    },
    {
      "cell_type": "code",
      "metadata": {
        "id": "2z5-BkjsA0fN"
      },
      "source": [
        ""
      ],
      "execution_count": 141,
      "outputs": []
    },
    {
      "cell_type": "markdown",
      "metadata": {
        "id": "Dl-z4HSbA6Ru"
      },
      "source": [
        "### **LINEAR REGRESSION USING GRADIENT DESCENT**"
      ]
    },
    {
      "cell_type": "markdown",
      "metadata": {
        "id": "xlL4WZYyBGae"
      },
      "source": [
        "yield_apple=w11*temp+w12*rainfall+w13*humidity+b1\n",
        "\n",
        "yield_orange=w21*temp+w22*rainfall+w23*humidity+b2"
      ]
    },
    {
      "cell_type": "code",
      "metadata": {
        "colab": {
          "base_uri": "https://localhost:8080/"
        },
        "id": "ayoLiZObBBZh",
        "outputId": "d53a2304-7933-4f04-dfe2-5ef6d9302c92"
      },
      "source": [
        "w=torch.randn(2,3,requires_grad=True)#WE HAVE THREE INPUT AND TWO TARGETS\n",
        "b=torch.randn(2,requires_grad=True)\n",
        "print(w)\n",
        "print(b)"
      ],
      "execution_count": 142,
      "outputs": [
        {
          "output_type": "stream",
          "text": [
            "tensor([[ 0.2023, -1.6035,  0.0601],\n",
            "        [ 1.9144, -0.7120, -0.2854]], requires_grad=True)\n",
            "tensor([-0.4001, -1.0923], requires_grad=True)\n"
          ],
          "name": "stdout"
        }
      ]
    },
    {
      "cell_type": "markdown",
      "metadata": {
        "id": "ceIr_FdWCUqG"
      },
      "source": [
        "X  x WT(Transpos of W) + b"
      ]
    },
    {
      "cell_type": "code",
      "metadata": {
        "id": "KYXlVhpcB5SX"
      },
      "source": [
        "def model(x):\n",
        "  return x @ w.t() + b\n",
        "#@ means matrix multiplication in PYTORCH .t is for transpos"
      ],
      "execution_count": 143,
      "outputs": []
    },
    {
      "cell_type": "code",
      "metadata": {
        "colab": {
          "base_uri": "https://localhost:8080/"
        },
        "id": "rIfsdgjICtvM",
        "outputId": "5aeedb9a-5b1f-4415-e4bd-5008ac98fd80"
      },
      "source": [
        "preds=model(inputs)\n",
        "preds"
      ],
      "execution_count": 144,
      "outputs": [
        {
          "output_type": "execute_result",
          "data": {
            "text/plain": [
              "tensor([[ -90.4818,   78.6806],\n",
              "        [-119.2514,   92.1938],\n",
              "        [-194.1846,   53.4946],\n",
              "        [ -46.4900,  152.9996],\n",
              "        [-136.1702,   42.6683]], grad_fn=<AddBackward0>)"
            ]
          },
          "metadata": {
            "tags": []
          },
          "execution_count": 144
        }
      ]
    },
    {
      "cell_type": "code",
      "metadata": {
        "colab": {
          "base_uri": "https://localhost:8080/"
        },
        "id": "QekZNBf7DIqW",
        "outputId": "c9aaefbd-7ef5-46b9-eeaa-7d563c703f14"
      },
      "source": [
        "print(targets)"
      ],
      "execution_count": 145,
      "outputs": [
        {
          "output_type": "stream",
          "text": [
            "tensor([[ 56.,  70.],\n",
            "        [ 81., 101.],\n",
            "        [119., 133.],\n",
            "        [ 22.,  37.],\n",
            "        [103., 119.]])\n"
          ],
          "name": "stdout"
        }
      ]
    },
    {
      "cell_type": "markdown",
      "metadata": {
        "id": "cK2BJteoDawH"
      },
      "source": [
        "LOSS FUNCTION"
      ]
    },
    {
      "cell_type": "code",
      "metadata": {
        "id": "Rf8BlM5IDc9Q"
      },
      "source": [
        "#MSE(Mean Squared Error) LOSS \n",
        "def mse(t1,t2):\n",
        "  diff=t1-t2\n",
        "  return torch.sum(diff*diff)/diff.numel()"
      ],
      "execution_count": 146,
      "outputs": []
    },
    {
      "cell_type": "code",
      "metadata": {
        "colab": {
          "base_uri": "https://localhost:8080/"
        },
        "id": "mD2vmWTzEFbp",
        "outputId": "78c8c2ea-de7e-4222-e2dd-0194df6a28a2"
      },
      "source": [
        "loss=mse(preds,targets)\n",
        "print(loss)"
      ],
      "execution_count": 147,
      "outputs": [
        {
          "output_type": "stream",
          "text": [
            "tensor(24729.1855, grad_fn=<DivBackward0>)\n"
          ],
          "name": "stdout"
        }
      ]
    },
    {
      "cell_type": "markdown",
      "metadata": {
        "id": "Z_71bzmUEZEa"
      },
      "source": [
        "### COMPUTE GRADIENTS"
      ]
    },
    {
      "cell_type": "code",
      "metadata": {
        "id": "zBokr1FyEbYj"
      },
      "source": [
        "loss.backward()"
      ],
      "execution_count": 148,
      "outputs": []
    },
    {
      "cell_type": "code",
      "metadata": {
        "colab": {
          "base_uri": "https://localhost:8080/"
        },
        "id": "vQRt_wYEEhcK",
        "outputId": "ce767d38-5488-4807-d76e-23930c8c7612"
      },
      "source": [
        "print(w)\n",
        "print(w.grad)"
      ],
      "execution_count": 149,
      "outputs": [
        {
          "output_type": "stream",
          "text": [
            "tensor([[ 0.2023, -1.6035,  0.0601],\n",
            "        [ 1.9144, -0.7120, -0.2854]], requires_grad=True)\n",
            "tensor([[-15930.3672, -19061.7109, -11311.1113],\n",
            "        [  -103.9146,  -2637.3850,  -1170.5750]])\n"
          ],
          "name": "stdout"
        }
      ]
    },
    {
      "cell_type": "code",
      "metadata": {
        "colab": {
          "base_uri": "https://localhost:8080/"
        },
        "id": "g_1ofJkEElQg",
        "outputId": "ca4ca6d1-4995-42cc-f33e-93ed51fe5295"
      },
      "source": [
        "print(b)\n",
        "print(b.grad)"
      ],
      "execution_count": 150,
      "outputs": [
        {
          "output_type": "stream",
          "text": [
            "tensor([-0.4001, -1.0923], requires_grad=True)\n",
            "tensor([-193.5156,   -7.9926])\n"
          ],
          "name": "stdout"
        }
      ]
    },
    {
      "cell_type": "markdown",
      "metadata": {
        "id": "5RF-RpvzHhgP"
      },
      "source": [
        "### GRADIENT DESCENT"
      ]
    },
    {
      "cell_type": "code",
      "metadata": {
        "colab": {
          "base_uri": "https://localhost:8080/",
          "height": 35
        },
        "id": "k9C5OcSzHkKM",
        "outputId": "6fbc4c7c-d494-4767-d417-3d92dab0b30c"
      },
      "source": [
        "'''w.grad.zero_()\n",
        "b.grad.zero_()\n",
        "print(w.grad)\n",
        "print(b.grad)'''"
      ],
      "execution_count": 151,
      "outputs": [
        {
          "output_type": "execute_result",
          "data": {
            "application/vnd.google.colaboratory.intrinsic+json": {
              "type": "string"
            },
            "text/plain": [
              "'w.grad.zero_()\\nb.grad.zero_()\\nprint(w.grad)\\nprint(b.grad)'"
            ]
          },
          "metadata": {
            "tags": []
          },
          "execution_count": 151
        }
      ]
    },
    {
      "cell_type": "code",
      "metadata": {
        "id": "5xa9z9kWH1BZ"
      },
      "source": [
        "with torch.no_grad():\n",
        "  w-=w.grad*1e-5\n",
        "  b-=b.grad*1e-5\n",
        "  w.grad.zero_()\n",
        "  b.grad.zero_()"
      ],
      "execution_count": 152,
      "outputs": []
    },
    {
      "cell_type": "code",
      "metadata": {
        "colab": {
          "base_uri": "https://localhost:8080/"
        },
        "id": "uvtkWrMGI05Z",
        "outputId": "986924ef-8ba4-4b9e-f5ac-3455bc5a66a9"
      },
      "source": [
        "print(w)\n",
        "print(b)"
      ],
      "execution_count": 153,
      "outputs": [
        {
          "output_type": "stream",
          "text": [
            "tensor([[ 0.3616, -1.4129,  0.1732],\n",
            "        [ 1.9154, -0.6857, -0.2737]], requires_grad=True)\n",
            "tensor([-0.3982, -1.0922], requires_grad=True)\n"
          ],
          "name": "stdout"
        }
      ]
    },
    {
      "cell_type": "code",
      "metadata": {
        "colab": {
          "base_uri": "https://localhost:8080/"
        },
        "id": "qmX8DDMvI74a",
        "outputId": "7c29d565-fe5f-4165-f393-80f0801a4d2d"
      },
      "source": [
        "preds=model(inputs)\n",
        "loss=mse(preds,targets)\n",
        "print(loss)"
      ],
      "execution_count": 154,
      "outputs": [
        {
          "output_type": "stream",
          "text": [
            "tensor(17865.3203, grad_fn=<DivBackward0>)\n"
          ],
          "name": "stdout"
        }
      ]
    },
    {
      "cell_type": "code",
      "metadata": {
        "id": "_CsFOe3GJXYG"
      },
      "source": [
        "for i in range(2000):\n",
        "  preds=model(inputs)\n",
        "  loss=mse(preds,targets)\n",
        "  loss.backward()\n",
        "  with torch.no_grad():\n",
        "    w-=w.grad*1e-5  #1e-5 is learning rate\n",
        "    b-=b.grad*1e-5\n",
        "    w.grad.zero_()\n",
        "    b.grad.zero_()"
      ],
      "execution_count": 155,
      "outputs": []
    },
    {
      "cell_type": "code",
      "metadata": {
        "colab": {
          "base_uri": "https://localhost:8080/"
        },
        "id": "Er_69PKpJ9c6",
        "outputId": "817b3e56-128f-401e-a88c-f75fe765a23d"
      },
      "source": [
        "#calculate loss\n",
        "preds=model(inputs)\n",
        "loss=mse(preds,targets)\n",
        "print(loss)"
      ],
      "execution_count": 156,
      "outputs": [
        {
          "output_type": "stream",
          "text": [
            "tensor(1.7165, grad_fn=<DivBackward0>)\n"
          ],
          "name": "stdout"
        }
      ]
    },
    {
      "cell_type": "code",
      "metadata": {
        "colab": {
          "base_uri": "https://localhost:8080/"
        },
        "id": "Sy-5VjoaKPXI",
        "outputId": "f400d37c-daac-4833-91a9-e74cf86d693e"
      },
      "source": [
        "preds"
      ],
      "execution_count": 157,
      "outputs": [
        {
          "output_type": "execute_result",
          "data": {
            "text/plain": [
              "tensor([[ 57.0760,  70.2541],\n",
              "        [ 82.4335,  99.6973],\n",
              "        [118.3198, 135.2558],\n",
              "        [ 20.9827,  37.6741],\n",
              "        [102.2931, 116.8435]], grad_fn=<AddBackward0>)"
            ]
          },
          "metadata": {
            "tags": []
          },
          "execution_count": 157
        }
      ]
    },
    {
      "cell_type": "code",
      "metadata": {
        "colab": {
          "base_uri": "https://localhost:8080/"
        },
        "id": "YQJG238YKVQC",
        "outputId": "ea1f8fb3-5842-4298-cde9-4be12b691f71"
      },
      "source": [
        "targets"
      ],
      "execution_count": 158,
      "outputs": [
        {
          "output_type": "execute_result",
          "data": {
            "text/plain": [
              "tensor([[ 56.,  70.],\n",
              "        [ 81., 101.],\n",
              "        [119., 133.],\n",
              "        [ 22.,  37.],\n",
              "        [103., 119.]])"
            ]
          },
          "metadata": {
            "tags": []
          },
          "execution_count": 158
        }
      ]
    },
    {
      "cell_type": "markdown",
      "metadata": {
        "id": "VZM6ybsbK7Z9"
      },
      "source": [
        "### Linear regression using PYTORCH"
      ]
    },
    {
      "cell_type": "code",
      "metadata": {
        "colab": {
          "base_uri": "https://localhost:8080/"
        },
        "id": "DSYr_HRQK3HS",
        "outputId": "9735d0e5-80f9-46b1-e164-424e4feaecb8"
      },
      "source": [
        "inputs = np.array([[73, 67, 43], \n",
        "                   [91, 88, 64], \n",
        "                   [87, 134, 58], \n",
        "                   [102, 43, 37], \n",
        "                   [69, 96, 70], \n",
        "                   [74, 66, 43], \n",
        "                   [91, 87, 65], \n",
        "                   [88, 134, 59], \n",
        "                   [101, 44, 37], \n",
        "                   [68, 96, 71], \n",
        "                   [73, 66, 44], \n",
        "                   [92, 87, 64], \n",
        "                   [87, 135, 57], \n",
        "                   [103, 43, 36], \n",
        "                   [68, 97, 70]], \n",
        "                  dtype='float32')\n",
        "\n",
        "# Targets (apples, oranges)\n",
        "targets = np.array([[56, 70], \n",
        "                    [81, 101], \n",
        "                    [119, 133], \n",
        "                    [22, 37], \n",
        "                    [103, 119],\n",
        "                    [57, 69], \n",
        "                    [80, 102], \n",
        "                    [118, 132], \n",
        "                    [21, 38], \n",
        "                    [104, 118], \n",
        "                    [57, 69], \n",
        "                    [82, 100], \n",
        "                    [118, 134], \n",
        "                    [20, 38], \n",
        "                    [102, 120]], \n",
        "                   dtype='float32')\n",
        "\n",
        "inputs = torch.from_numpy(inputs)\n",
        "targets = torch.from_numpy(targets)\n",
        "print(inputs)\n",
        "print(targets)"
      ],
      "execution_count": 159,
      "outputs": [
        {
          "output_type": "stream",
          "text": [
            "tensor([[ 73.,  67.,  43.],\n",
            "        [ 91.,  88.,  64.],\n",
            "        [ 87., 134.,  58.],\n",
            "        [102.,  43.,  37.],\n",
            "        [ 69.,  96.,  70.],\n",
            "        [ 74.,  66.,  43.],\n",
            "        [ 91.,  87.,  65.],\n",
            "        [ 88., 134.,  59.],\n",
            "        [101.,  44.,  37.],\n",
            "        [ 68.,  96.,  71.],\n",
            "        [ 73.,  66.,  44.],\n",
            "        [ 92.,  87.,  64.],\n",
            "        [ 87., 135.,  57.],\n",
            "        [103.,  43.,  36.],\n",
            "        [ 68.,  97.,  70.]])\n",
            "tensor([[ 56.,  70.],\n",
            "        [ 81., 101.],\n",
            "        [119., 133.],\n",
            "        [ 22.,  37.],\n",
            "        [103., 119.],\n",
            "        [ 57.,  69.],\n",
            "        [ 80., 102.],\n",
            "        [118., 132.],\n",
            "        [ 21.,  38.],\n",
            "        [104., 118.],\n",
            "        [ 57.,  69.],\n",
            "        [ 82., 100.],\n",
            "        [118., 134.],\n",
            "        [ 20.,  38.],\n",
            "        [102., 120.]])\n"
          ],
          "name": "stdout"
        }
      ]
    },
    {
      "cell_type": "code",
      "metadata": {
        "colab": {
          "base_uri": "https://localhost:8080/"
        },
        "id": "8HpS0D3uLLX1",
        "outputId": "0dada08c-a367-42cc-c7a3-13bc55c4d280"
      },
      "source": [
        "from torch.utils.data import TensorDataset\n",
        "#define dataset\n",
        "train=TensorDataset(inputs,targets)\n",
        "print(train[0:3])\n",
        "print(train[[1,3,4,5,6]])"
      ],
      "execution_count": 187,
      "outputs": [
        {
          "output_type": "stream",
          "text": [
            "(tensor([[ 73.,  67.,  43.],\n",
            "        [ 91.,  88.,  64.],\n",
            "        [ 87., 134.,  58.]]), tensor([[ 56.,  70.],\n",
            "        [ 81., 101.],\n",
            "        [119., 133.]]))\n",
            "(tensor([[ 91.,  88.,  64.],\n",
            "        [102.,  43.,  37.],\n",
            "        [ 69.,  96.,  70.],\n",
            "        [ 74.,  66.,  43.],\n",
            "        [ 91.,  87.,  65.]]), tensor([[ 81., 101.],\n",
            "        [ 22.,  37.],\n",
            "        [103., 119.],\n",
            "        [ 57.,  69.],\n",
            "        [ 80., 102.]]))\n"
          ],
          "name": "stdout"
        }
      ]
    },
    {
      "cell_type": "code",
      "metadata": {
        "id": "FZaVuz6QLnS7"
      },
      "source": [
        "from torch.utils.data import DataLoader\n",
        "batch_size=5\n",
        "train_dl=DataLoader(train,batch_size,shuffle=True)"
      ],
      "execution_count": 188,
      "outputs": []
    },
    {
      "cell_type": "code",
      "metadata": {
        "colab": {
          "base_uri": "https://localhost:8080/"
        },
        "id": "izyQrTa5MYb_",
        "outputId": "bd2aa790-951c-40df-d5d2-68ff657c3552"
      },
      "source": [
        "for xb,yb in train_dl:\n",
        "  print(xb)\n",
        "  print(yb)"
      ],
      "execution_count": 198,
      "outputs": [
        {
          "output_type": "stream",
          "text": [
            "tensor([[ 91.,  88.,  64.],\n",
            "        [ 69.,  96.,  70.],\n",
            "        [ 91.,  87.,  65.],\n",
            "        [ 87., 135.,  57.],\n",
            "        [103.,  43.,  36.]])\n",
            "tensor([[ 81., 101.],\n",
            "        [103., 119.],\n",
            "        [ 80., 102.],\n",
            "        [118., 134.],\n",
            "        [ 20.,  38.]])\n",
            "tensor([[ 68.,  97.,  70.],\n",
            "        [101.,  44.,  37.],\n",
            "        [ 92.,  87.,  64.],\n",
            "        [ 74.,  66.,  43.],\n",
            "        [ 73.,  66.,  44.]])\n",
            "tensor([[102., 120.],\n",
            "        [ 21.,  38.],\n",
            "        [ 82., 100.],\n",
            "        [ 57.,  69.],\n",
            "        [ 57.,  69.]])\n",
            "tensor([[102.,  43.,  37.],\n",
            "        [ 87., 134.,  58.],\n",
            "        [ 88., 134.,  59.],\n",
            "        [ 68.,  96.,  71.],\n",
            "        [ 73.,  67.,  43.]])\n",
            "tensor([[ 22.,  37.],\n",
            "        [119., 133.],\n",
            "        [118., 132.],\n",
            "        [104., 118.],\n",
            "        [ 56.,  70.]])\n"
          ],
          "name": "stdout"
        }
      ]
    },
    {
      "cell_type": "code",
      "metadata": {
        "colab": {
          "base_uri": "https://localhost:8080/"
        },
        "id": "emWHpWmVMhQR",
        "outputId": "3b718017-58d2-4d8a-c28f-90363236e30b"
      },
      "source": [
        "import torch.nn as nn\n",
        "model=nn.Linear(3,2)\n",
        "print(model.weight)\n",
        "print(model.bias)"
      ],
      "execution_count": 199,
      "outputs": [
        {
          "output_type": "stream",
          "text": [
            "Parameter containing:\n",
            "tensor([[ 0.1562, -0.2758,  0.3033],\n",
            "        [-0.0428, -0.3808,  0.0447]], requires_grad=True)\n",
            "Parameter containing:\n",
            "tensor([-0.1171, -0.0224], requires_grad=True)\n"
          ],
          "name": "stdout"
        }
      ]
    },
    {
      "cell_type": "code",
      "metadata": {
        "colab": {
          "base_uri": "https://localhost:8080/"
        },
        "id": "kPw7njQVM1Kp",
        "outputId": "96c736d4-3355-43ab-95ad-be1a3576c93b"
      },
      "source": [
        "list(model.parameters())"
      ],
      "execution_count": 200,
      "outputs": [
        {
          "output_type": "execute_result",
          "data": {
            "text/plain": [
              "[Parameter containing:\n",
              " tensor([[ 0.1562, -0.2758,  0.3033],\n",
              "         [-0.0428, -0.3808,  0.0447]], requires_grad=True),\n",
              " Parameter containing:\n",
              " tensor([-0.1171, -0.0224], requires_grad=True)]"
            ]
          },
          "metadata": {
            "tags": []
          },
          "execution_count": 200
        }
      ]
    },
    {
      "cell_type": "code",
      "metadata": {
        "colab": {
          "base_uri": "https://localhost:8080/"
        },
        "id": "LC6t6zOxOYW8",
        "outputId": "6446e6d2-8cf0-4474-f15e-5e9fa48b24ad"
      },
      "source": [
        "preds=model(inputs)\n",
        "preds"
      ],
      "execution_count": 201,
      "outputs": [
        {
          "output_type": "execute_result",
          "data": {
            "text/plain": [
              "tensor([[  5.8472, -26.7390],\n",
              "        [  9.2358, -34.5676],\n",
              "        [ -5.8930, -52.1810],\n",
              "        [ 15.1742, -19.1098],\n",
              "        [  5.4139, -36.4037],\n",
              "        [  6.2791, -26.4010],\n",
              "        [  9.8148, -34.1421],\n",
              "        [ -5.4335, -52.1792],\n",
              "        [ 14.7423, -19.4478],\n",
              "        [  5.5610, -36.3162],\n",
              "        [  6.4262, -26.3135],\n",
              "        [  9.6677, -34.2296],\n",
              "        [ -6.4720, -52.6065],\n",
              "        [ 15.0271, -19.1974],\n",
              "        [  4.9820, -36.7417]], grad_fn=<AddmmBackward>)"
            ]
          },
          "metadata": {
            "tags": []
          },
          "execution_count": 201
        }
      ]
    },
    {
      "cell_type": "code",
      "metadata": {
        "colab": {
          "base_uri": "https://localhost:8080/"
        },
        "id": "ySKL-ozROe3r",
        "outputId": "936b2ed9-a7df-48fc-e6aa-a4b1bf4381fe"
      },
      "source": [
        "import torch.nn.functional as f #For loss function\n",
        "loss_fn=f.mse_loss\n",
        "loss=loss_fn(model(inputs),targets)\n",
        "print(loss)"
      ],
      "execution_count": 202,
      "outputs": [
        {
          "output_type": "stream",
          "text": [
            "tensor(12192.6787, grad_fn=<MseLossBackward>)\n"
          ],
          "name": "stdout"
        }
      ]
    },
    {
      "cell_type": "code",
      "metadata": {
        "id": "VFsP1SlNO6Ra"
      },
      "source": [
        "?nn.Linear #FOR HELP for a function"
      ],
      "execution_count": 203,
      "outputs": []
    },
    {
      "cell_type": "code",
      "metadata": {
        "id": "z6RHbbBVPDZ6"
      },
      "source": [
        "opt=torch.optim.SGD(model.parameters(),lr=1e-5) #SGD-Stochastic Gradient Descent"
      ],
      "execution_count": 204,
      "outputs": []
    },
    {
      "cell_type": "markdown",
      "metadata": {
        "id": "FKhHW-3MPjsY"
      },
      "source": [
        "Train The Model"
      ]
    },
    {
      "cell_type": "code",
      "metadata": {
        "id": "1wGavoJ6Pc0b"
      },
      "source": [
        "#Utility function to train the model\n",
        "def fit(num_epochs,model,loss_fn,opt):\n",
        "  for epoch in range(num_epochs):\n",
        "    #Train Batches xb,yb\n",
        "    for xb,yb in train_dl:\n",
        "      pred=model(xb)\n",
        "      loss=loss_fn(pred,yb)\n",
        "      loss.backward()\n",
        "      opt.step()\n",
        "      opt.zero_grad()\n",
        "    if(epoch+1)%100==0:\n",
        "      print('Epoch ',epoch+1,\"/\",num_epochs,\" Loss: {:.4f}\".format(loss.item()))"
      ],
      "execution_count": 216,
      "outputs": []
    },
    {
      "cell_type": "code",
      "metadata": {
        "colab": {
          "base_uri": "https://localhost:8080/"
        },
        "id": "pJDqJrfqRAc3",
        "outputId": "b6b2a87e-dcab-4d9b-955c-0df1d9dce453"
      },
      "source": [
        "fit(500,model,loss_fn,opt)"
      ],
      "execution_count": 219,
      "outputs": [
        {
          "output_type": "stream",
          "text": [
            "Epoch  100 / 500  Loss: 1.1538\n",
            "Epoch  200 / 500  Loss: 0.7927\n",
            "Epoch  300 / 500  Loss: 1.2483\n",
            "Epoch  400 / 500  Loss: 0.9213\n",
            "Epoch  500 / 500  Loss: 1.3437\n"
          ],
          "name": "stdout"
        }
      ]
    },
    {
      "cell_type": "code",
      "metadata": {
        "colab": {
          "base_uri": "https://localhost:8080/"
        },
        "id": "74JQjWnpRGXG",
        "outputId": "89ad7f26-9f68-49af-a0ad-a456c740f4f1"
      },
      "source": [
        "preds=model(inputs)\n",
        "preds"
      ],
      "execution_count": 222,
      "outputs": [
        {
          "output_type": "execute_result",
          "data": {
            "text/plain": [
              "tensor([[ 56.8979,  70.4091],\n",
              "        [ 82.0071, 100.5668],\n",
              "        [118.1319, 132.8184],\n",
              "        [ 20.7853,  37.7771],\n",
              "        [101.8276, 118.5234],\n",
              "        [ 55.6524,  69.3312],\n",
              "        [ 81.8659, 100.6634],\n",
              "        [118.4283, 133.4215],\n",
              "        [ 22.0308,  38.8550],\n",
              "        [102.9318, 119.6979],\n",
              "        [ 56.7567,  70.5057],\n",
              "        [ 80.7617,  99.4888],\n",
              "        [118.2731, 132.7218],\n",
              "        [ 19.6811,  36.6026],\n",
              "        [103.0730, 119.6013]], grad_fn=<AddmmBackward>)"
            ]
          },
          "metadata": {
            "tags": []
          },
          "execution_count": 222
        }
      ]
    },
    {
      "cell_type": "code",
      "metadata": {
        "colab": {
          "base_uri": "https://localhost:8080/"
        },
        "id": "s5UIHZjUVBTC",
        "outputId": "e4920554-a8ca-49d5-fbf0-083807999b05"
      },
      "source": [
        "targets"
      ],
      "execution_count": 221,
      "outputs": [
        {
          "output_type": "execute_result",
          "data": {
            "text/plain": [
              "tensor([[ 56.,  70.],\n",
              "        [ 81., 101.],\n",
              "        [119., 133.],\n",
              "        [ 22.,  37.],\n",
              "        [103., 119.],\n",
              "        [ 57.,  69.],\n",
              "        [ 80., 102.],\n",
              "        [118., 132.],\n",
              "        [ 21.,  38.],\n",
              "        [104., 118.],\n",
              "        [ 57.,  69.],\n",
              "        [ 82., 100.],\n",
              "        [118., 134.],\n",
              "        [ 20.,  38.],\n",
              "        [102., 120.]])"
            ]
          },
          "metadata": {
            "tags": []
          },
          "execution_count": 221
        }
      ]
    },
    {
      "cell_type": "code",
      "metadata": {
        "id": "AxbaYYr2VDJt"
      },
      "source": [
        ""
      ],
      "execution_count": null,
      "outputs": []
    }
  ]
}