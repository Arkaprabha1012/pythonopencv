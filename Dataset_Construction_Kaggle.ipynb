{
 "cells": [
  {
   "cell_type": "markdown",
   "metadata": {},
   "source": [
    "BONE REMOVAL DATA CONSTRUCTION"
   ]
  },
  {
   "cell_type": "code",
   "execution_count": 1,
   "metadata": {},
   "outputs": [
    {
     "name": "stderr",
     "output_type": "stream",
     "text": [
      "Using TensorFlow backend.\n"
     ]
    }
   ],
   "source": [
    "import pandas as pd\n",
    "import os\n",
    "import shutil #copy\n",
    "import cv2\n",
    "import matplotlib.pyplot as plt\n",
    "import numpy as np\n",
    "from sklearn.model_selection import train_test_split\n",
    "from keras.layers import Input,Dense,Conv2D,MaxPooling2D,UpSampling2D\n",
    "from keras.layers.normalization import BatchNormalization\n",
    "from keras.models import Model"
   ]
  },
  {
   "cell_type": "code",
   "execution_count": 49,
   "metadata": {},
   "outputs": [],
   "source": [
    "import tensorflow as tf\n",
    "autoencoder = tf.keras.models.load_model(\"5000bs256.h5\")"
   ]
  },
  {
   "cell_type": "code",
   "execution_count": 69,
   "metadata": {},
   "outputs": [],
   "source": [
    "#make the dataset\n",
    "source_dir=\"Preprocessed_Clahe15/Lung_Opacity/\"\n",
    "target_dir=\"claheBR/Lung_Opacity/\"\n",
    "if not os.path.exists(target_dir):\n",
    "    os.mkdir(target_dir)\n",
    "    print(\"Pneumonia_bone_removal folder created\")"
   ]
  },
  {
   "cell_type": "code",
   "execution_count": 70,
   "metadata": {},
   "outputs": [
    {
     "name": "stdout",
     "output_type": "stream",
     "text": [
      "6012\n"
     ]
    }
   ],
   "source": [
    "from os import walk\n",
    "\n",
    "_, _, filenames = next(walk(source_dir))\n",
    "print(len(filenames))"
   ]
  },
  {
   "cell_type": "code",
   "execution_count": 71,
   "metadata": {},
   "outputs": [],
   "source": [
    "def load_data(path):\n",
    "    img_size = (256,256)\n",
    "    imgs_source = []\n",
    "    imgs_target = []\n",
    "    image=cv2.imread(path,0)\n",
    "    image=cv2.resize(image,img_size)\n",
    "    image_array=np.array(image)/255\n",
    "    return image_array"
   ]
  },
  {
   "cell_type": "code",
   "execution_count": 72,
   "metadata": {},
   "outputs": [
    {
     "name": "stdout",
     "output_type": "stream",
     "text": [
      "500  Image done\n",
      "1000  Image done\n",
      "1500  Image done\n",
      "2000  Image done\n",
      "2500  Image done\n",
      "3000  Image done\n",
      "3500  Image done\n",
      "4000  Image done\n",
      "4500  Image done\n",
      "5000  Image done\n",
      "5500  Image done\n",
      "6000  Image done\n"
     ]
    }
   ],
   "source": [
    "cnt=0\n",
    "for i in range(len(filenames)):\n",
    "    filepath=os.path.join(source_dir,filenames[i])\n",
    "    image=load_data(filepath)\n",
    "    imagelist=np.array(image).reshape(-1,256,256,1)\n",
    "    pred = autoencoder.predict(imagelist)\n",
    "    updated_filename=target_dir+\"BR\"+filenames[i]+\".jpg\"\n",
    "    plt.imsave(updated_filename,pred[0].reshape(256,256),cmap=\"gray\")\n",
    "    cnt=cnt+1\n",
    "    if(cnt%500==0):\n",
    "        print(cnt,\" Image done\")"
   ]
  },
  {
   "cell_type": "code",
   "execution_count": null,
   "metadata": {},
   "outputs": [],
   "source": []
  },
  {
   "cell_type": "markdown",
   "metadata": {},
   "source": [
    "CLAHE DATA CONSTRUCTION"
   ]
  },
  {
   "cell_type": "code",
   "execution_count": 30,
   "metadata": {},
   "outputs": [],
   "source": [
    "import pandas as pd\n",
    "import os\n",
    "import shutil #copy\n",
    "import cv2\n",
    "import matplotlib.pyplot as plt\n",
    "import numpy as np\n",
    "from sklearn.model_selection import train_test_split\n",
    "from keras.layers import Input,Dense,Conv2D,MaxPooling2D,UpSampling2D\n",
    "from keras.layers.normalization import BatchNormalization\n",
    "from keras.models import Model"
   ]
  },
  {
   "cell_type": "code",
   "execution_count": 46,
   "metadata": {},
   "outputs": [],
   "source": [
    "#make the dataset\n",
    "source_dir=\"COVID-19_Radiography_Dataset/Lung_Opacity/\"\n",
    "target_dir=\"Preprocessed_Clahe15/Lung_Opacity/\"\n",
    "if not os.path.exists(target_dir):\n",
    "    os.mkdir(target_dir)\n",
    "    print(\"Pneumonia_clahe folder created\")"
   ]
  },
  {
   "cell_type": "code",
   "execution_count": 47,
   "metadata": {},
   "outputs": [
    {
     "name": "stdout",
     "output_type": "stream",
     "text": [
      "6012\n"
     ]
    }
   ],
   "source": [
    "from os import walk\n",
    "\n",
    "_, _, filenames = next(walk(source_dir))\n",
    "print(len(filenames))"
   ]
  },
  {
   "cell_type": "code",
   "execution_count": 48,
   "metadata": {},
   "outputs": [
    {
     "name": "stdout",
     "output_type": "stream",
     "text": [
      "500  Image done\n",
      "1000  Image done\n",
      "1500  Image done\n",
      "2000  Image done\n",
      "2500  Image done\n",
      "3000  Image done\n",
      "3500  Image done\n",
      "4000  Image done\n",
      "4500  Image done\n",
      "5000  Image done\n",
      "5500  Image done\n",
      "6000  Image done\n"
     ]
    }
   ],
   "source": [
    "cnt=0\n",
    "for i in range(len(filenames)):\n",
    "    filepath=os.path.join(source_dir,filenames[i])\n",
    "    image = cv2.imread(filepath,0)\n",
    "    equ = cv2.equalizeHist(image)\n",
    "    # create a CLAHE object (Arguments are optional).\n",
    "    clahe = cv2.createCLAHE(clipLimit=2.0, tileGridSize=(15,15))\n",
    "    cl1 = clahe.apply(image)\n",
    "    updated_filename=target_dir+\"ClaheG15\"+filenames[i]\n",
    "    plt.imsave(updated_filename,cl1,cmap=\"gray\")\n",
    "    cnt=cnt+1\n",
    "    if(cnt%500==0):\n",
    "        print(cnt,\" Image done\")"
   ]
  },
  {
   "cell_type": "code",
   "execution_count": null,
   "metadata": {},
   "outputs": [],
   "source": []
  }
 ],
 "metadata": {
  "kernelspec": {
   "display_name": "Python 3",
   "language": "python",
   "name": "python3"
  },
  "language_info": {
   "codemirror_mode": {
    "name": "ipython",
    "version": 3
   },
   "file_extension": ".py",
   "mimetype": "text/x-python",
   "name": "python",
   "nbconvert_exporter": "python",
   "pygments_lexer": "ipython3",
   "version": "3.7.6"
  }
 },
 "nbformat": 4,
 "nbformat_minor": 4
}
